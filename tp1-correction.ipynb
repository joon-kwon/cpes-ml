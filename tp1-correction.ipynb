{
 "cells": [
  {
   "cell_type": "code",
   "execution_count": 31,
   "metadata": {
    "autoscroll": false,
    "ein.hycell": false,
    "ein.tags": "worksheet-0",
    "slideshow": {
     "slide_type": "-"
    }
   },
   "outputs": [],
   "source": [
    "import numpy as np\n",
    "import matplotlib.pyplot as plt"
   ]
  },
  {
   "cell_type": "markdown",
   "metadata": {
    "autoscroll": false,
    "ein.hycell": false,
    "ein.tags": "worksheet-0",
    "slideshow": {
     "slide_type": "-"
    }
   },
   "source": [
    "# Question 1"
   ]
  },
  {
   "cell_type": "code",
   "execution_count": 32,
   "metadata": {
    "autoscroll": false,
    "ein.hycell": false,
    "ein.tags": "worksheet-0",
    "slideshow": {
     "slide_type": "-"
    }
   },
   "outputs": [
    {
     "data": {
      "text/plain": [
       "array([ 0.60028027, -0.24777567, -0.69217525,  0.88913809, -0.73698097,\n",
       "        0.96280174, -0.44767759, -0.90735336, -0.60547872, -0.73394193,\n",
       "        0.17358695, -0.64888494, -0.44097384,  0.62173335, -0.2023476 ])"
      ]
     },
     "execution_count": 32,
     "metadata": {},
     "output_type": "execute_result"
    }
   ],
   "source": [
    "n = 15\n",
    "x = 2*np.random.random_sample(n)-1\n",
    "x"
   ]
  },
  {
   "cell_type": "markdown",
   "metadata": {
    "autoscroll": false,
    "ein.hycell": false,
    "ein.tags": "worksheet-0",
    "slideshow": {
     "slide_type": "-"
    }
   },
   "source": [
    "# Question 2"
   ]
  },
  {
   "cell_type": "code",
   "execution_count": 33,
   "metadata": {
    "autoscroll": false,
    "ein.hycell": false,
    "ein.tags": "worksheet-0",
    "slideshow": {
     "slide_type": "-"
    }
   },
   "outputs": [
    {
     "data": {
      "text/plain": [
       "array([ 0.6169003 ,  1.0556685 ,  0.51349975,  0.57793613,  0.28946429,\n",
       "        0.78321463,  0.97603718, -0.25353126,  0.79112915,  0.36884577,\n",
       "        0.82396406,  0.57049432,  1.1084226 ,  0.52681422,  1.13011644])"
      ]
     },
     "execution_count": 33,
     "metadata": {},
     "output_type": "execute_result"
    }
   ],
   "source": [
    "def g(x):\n",
    "    return 1.5*x**3 -  x**2 - .75*x + 1 \n",
    "y = g(x) + .05*np.random.randn(n)\n",
    "y"
   ]
  },
  {
   "cell_type": "markdown",
   "metadata": {
    "autoscroll": false,
    "ein.hycell": false,
    "ein.tags": "worksheet-0",
    "slideshow": {
     "slide_type": "-"
    }
   },
   "source": [
    "# Question 3"
   ]
  },
  {
   "cell_type": "code",
   "execution_count": 34,
   "metadata": {
    "autoscroll": false,
    "ein.hycell": false,
    "ein.tags": "worksheet-0",
    "slideshow": {
     "slide_type": "-"
    }
   },
   "outputs": [
    {
     "data": {
      "image/png": "[encoded data removed]",
      "text/plain": [
       "<Figure size 432x288 with 1 Axes>"
      ]
     },
     "metadata": {
      "needs_background": "light"
     },
     "output_type": "display_data"
    }
   ],
   "source": [
    "plt.scatter(x,y)\n",
    "plt.show()"
   ]
  },
  {
   "cell_type": "markdown",
   "metadata": {
    "autoscroll": false,
    "ein.hycell": false,
    "ein.tags": "worksheet-0",
    "slideshow": {
     "slide_type": "-"
    }
   },
   "source": [
    "# Question 4"
   ]
  },
  {
   "cell_type": "code",
   "execution_count": 35,
   "metadata": {
    "autoscroll": false,
    "ein.hycell": false,
    "ein.tags": "worksheet-0",
    "slideshow": {
     "slide_type": "-"
    }
   },
   "outputs": [],
   "source": [
    "n_test = 30\n",
    "x_test = 2*np.random.random_sample(n_test)-1\n",
    "y_test = g(x_test) + .05*np.random.randn(n_test)"
   ]
  },
  {
   "cell_type": "markdown",
   "metadata": {
    "autoscroll": false,
    "ein.hycell": false,
    "ein.tags": "worksheet-0",
    "slideshow": {
     "slide_type": "-"
    }
   },
   "source": [
    "# Question 5"
   ]
  },
  {
   "cell_type": "code",
   "execution_count": 36,
   "metadata": {
    "autoscroll": false,
    "ein.hycell": false,
    "ein.tags": "worksheet-0",
    "slideshow": {
     "slide_type": "-"
    }
   },
   "outputs": [
    {
     "data": {
      "image/png": "[encoded data removed]",
      "text/plain": [
       "<Figure size 432x288 with 1 Axes>"
      ]
     },
     "metadata": {
      "needs_background": "light"
     },
     "output_type": "display_data"
    }
   ],
   "source": [
    "from sklearn.linear_model import LinearRegression\n",
    "f = LinearRegression()\n",
    "\n",
    "X = x[:,np.newaxis]\n",
    "X_test = x_test[:,np.newaxis]\n",
    "\n",
    "f.fit(X,y)\n",
    "\n",
    "xplot = np.linspace(-1,1,500).reshape(-1,1)\n",
    "plt.scatter(x,y)\n",
    "plt.plot(xplot,f.predict(xplot))\n",
    "plt.show()"
   ]
  },
  {
   "cell_type": "markdown",
   "metadata": {
    "autoscroll": false,
    "ein.hycell": false,
    "ein.tags": "worksheet-0",
    "slideshow": {
     "slide_type": "-"
    }
   },
   "source": [
    "# Question 6"
   ]
  },
  {
   "cell_type": "code",
   "execution_count": 37,
   "metadata": {
    "autoscroll": false,
    "ein.hycell": false,
    "ein.tags": "worksheet-0",
    "slideshow": {
     "slide_type": "-"
    }
   },
   "outputs": [
    {
     "name": "stdout",
     "output_type": "stream",
     "text": [
      "Erreur moyenne d'apprentissage : 0.11547860978118021\n",
      "Erreur moyenne de test : 0.1752671341770697\n"
     ]
    }
   ],
   "source": [
    "print(\"Erreur moyenne d'apprentissage :\", sum((y-f.predict(X))**2)/n)\n",
    "print(\"Erreur moyenne de test :\", sum((y_test-f.predict(X_test))**2)/n_test)"
   ]
  },
  {
   "cell_type": "markdown",
   "metadata": {
    "autoscroll": false,
    "ein.hycell": false,
    "ein.tags": "worksheet-0",
    "slideshow": {
     "slide_type": "-"
    }
   },
   "source": [
    "# Question 7"
   ]
  },
  {
   "cell_type": "code",
   "execution_count": 38,
   "metadata": {
    "autoscroll": false,
    "ein.hycell": false,
    "ein.tags": "worksheet-0",
    "slideshow": {
     "slide_type": "-"
    }
   },
   "outputs": [
    {
     "data": {
      "image/png": "[encoded data removed]",
      "text/plain": [
       "<Figure size 432x288 with 1 Axes>"
      ]
     },
     "metadata": {
      "needs_background": "light"
     },
     "output_type": "display_data"
    },
    {
     "name": "stdout",
     "output_type": "stream",
     "text": [
      "Erreur moyenne d'apprentissage : 0.04752239829513204\n",
      "Erreur moyenne de test : 0.07406072955304625\n"
     ]
    }
   ],
   "source": [
    "from sklearn.preprocessing import PolynomialFeatures\n",
    "psi = PolynomialFeatures(2,include_bias=False).fit_transform\n",
    "\n",
    "f = LinearRegression().fit(psi(X),y)\n",
    "\n",
    "plt.scatter(x,y)\n",
    "plt.plot(xplot,f.predict(psi(xplot)))\n",
    "plt.show()\n",
    "\n",
    "print(\"Erreur moyenne d'apprentissage :\", sum((y-f.predict(psi(X)))**2)/n)\n",
    "print(\"Erreur moyenne de test :\", sum((y_test-f.predict(psi(X_test)))**2)/n_test)"
   ]
  },
  {
   "cell_type": "markdown",
   "metadata": {
    "autoscroll": false,
    "ein.hycell": false,
    "ein.tags": "worksheet-0",
    "slideshow": {
     "slide_type": "-"
    }
   },
   "source": [
    "On observe une nette amélioration par rapport à la regression linéaire"
   ]
  },
  {
   "cell_type": "markdown",
   "metadata": {
    "autoscroll": false,
    "ein.hycell": false,
    "ein.tags": "worksheet-0",
    "slideshow": {
     "slide_type": "-"
    }
   },
   "source": [
    "# Question 8"
   ]
  },
  {
   "cell_type": "code",
   "execution_count": 39,
   "metadata": {
    "autoscroll": false,
    "ein.hycell": false,
    "ein.tags": "worksheet-0",
    "slideshow": {
     "slide_type": "-"
    }
   },
   "outputs": [
    {
     "data": {
      "image/png": "[encoded data removed]",
      "text/plain": [
       "<Figure size 432x288 with 1 Axes>"
      ]
     },
     "metadata": {
      "needs_background": "light"
     },
     "output_type": "display_data"
    },
    {
     "name": "stdout",
     "output_type": "stream",
     "text": [
      "1.0130816689938449\n",
      "[-0.70245578 -1.01328619  1.50423963]\n"
     ]
    }
   ],
   "source": [
    "def reg_poly(d):\n",
    "    psi = PolynomialFeatures(d,include_bias=False).fit_transform\n",
    "    return LinearRegression().fit(psi(X),y), psi\n",
    "\n",
    "plt.scatter(x,y)\n",
    "poly = {} \n",
    "psi = {}\n",
    "for d in [3,4,13,14]:\n",
    "    poly[d], psi[d] = reg_poly(d)\n",
    "    plt.plot(xplot,poly[d].predict(psi[d](xplot)))\n",
    "plt.axis([-1, 1, -1.5, 1.5])\n",
    "plt.legend(['d = 3', 'd = 4', 'd = 13', 'd = 14','données'])\n",
    "plt.show()\n",
    "\n",
    "print(poly[3].intercept_)\n",
    "print(poly[3].coef_)"
   ]
  },
  {
   "cell_type": "markdown",
   "metadata": {
    "autoscroll": false,
    "ein.hycell": false,
    "ein.tags": "worksheet-0",
    "slideshow": {
     "slide_type": "-"
    }
   },
   "source": [
    "Pour n=3, ces coefficients sont similaires à ceux de la fonction g\n",
    "Pour n=14, il existe un polynôme qui passe par chacun des 15 points (polynôme d'interpolation de Lagrange). Ce polynôme minimise évidemment le risque empirique, c'est donc celui donné par la minimisation du risque empirique."
   ]
  },
  {
   "cell_type": "code",
   "execution_count": 40,
   "metadata": {
    "autoscroll": false,
    "ein.hycell": false,
    "ein.tags": "worksheet-0",
    "slideshow": {
     "slide_type": "-"
    }
   },
   "outputs": [
    {
     "data": {
      "image/png": "[encoded data removed]",
      "text/plain": [
       "<Figure size 432x288 with 1 Axes>"
      ]
     },
     "metadata": {
      "needs_background": "light"
     },
     "output_type": "display_data"
    }
   ],
   "source": [
    "mean_train_error = []\n",
    "mean_test_error = []\n",
    "d_max = 14 \n",
    "for d in range(1,d_max+1):\n",
    "    f, psi = reg_poly(d)\n",
    "    mean_train_error.append(sum((f.predict(psi(X))-y)**2)/n)\n",
    "    mean_test_error.append(sum((f.predict(psi(X_test))-y_test)**2)/n_test)\n",
    "\n",
    "plt.plot(range(1,d_max+1),mean_train_error)\n",
    "plt.plot(range(1,d_max+1),mean_test_error)\n",
    "plt.axis([0, d_max, 0, .2])\n",
    "plt.show()"
   ]
  },
  {
   "cell_type": "markdown",
   "metadata": {
    "autoscroll": false,
    "ein.hycell": false,
    "ein.tags": "worksheet-0",
    "slideshow": {
     "slide_type": "-"
    }
   },
   "source": [
    "Plus n est élevé, plus les polyômes obtenus sont complexes et plus l'erreur d'apprentissage est faible.\n",
    "\n",
    "L'erreur de test décroît d'abord. Puis, lorsque n grand, il croît: il y a alors sur-apprentissage. La grande complexité des polynôme permet de mieux coller aux points d'apprentissage, mais ne permet pas une bonne généralisation à de nouveaux points."
   ]
  },
  {
   "cell_type": "markdown",
   "metadata": {
    "autoscroll": false,
    "ein.hycell": false,
    "ein.tags": "worksheet-0",
    "slideshow": {
     "slide_type": "-"
    }
   },
   "source": [
    "# Question 9"
   ]
  },
  {
   "cell_type": "code",
   "execution_count": 41,
   "metadata": {
    "autoscroll": false,
    "ein.hycell": false,
    "ein.tags": "worksheet-0",
    "slideshow": {
     "slide_type": "-"
    }
   },
   "outputs": [],
   "source": [
    "from sklearn.linear_model import Lasso\n",
    "\n",
    "def reg_poly_lasso(d, alpha=1):\n",
    "    psi = PolynomialFeatures(d,include_bias=False).fit_transform\n",
    "    return Lasso(alpha).fit(psi(X),y), psi"
   ]
  },
  {
   "cell_type": "code",
   "execution_count": 42,
   "metadata": {
    "autoscroll": false,
    "ein.hycell": false,
    "ein.tags": "worksheet-0",
    "slideshow": {
     "slide_type": "-"
    }
   },
   "outputs": [
    {
     "name": "stdout",
     "output_type": "stream",
     "text": [
      "Coefficients du polynôme : [-0.7353042  -0.28508766  1.49039075 -1.5142657   0.34237866 -0.03091879\n",
      " -0.07329929  0.35702837 -0.19049313  0.41718921 -0.19558159  0.3426436\n",
      " -0.14653267  0.25089905]\n",
      "Coefficients du polynôme : [-0.7351661  -0.2985041   1.51196715 -1.4866236   0.25483102  0.00658489\n",
      "  0.          0.24562775 -0.14844646  0.44519831 -0.23154876  0.38228362\n",
      " -0.16230992  0.2442946 ]\n",
      "Coefficients du polynôme : [-0.73760527 -0.44811162  1.61855084 -1.1561014  -0.         -0.\n",
      " -0.          0.         -0.07324154  0.48891909 -0.12054082  0.48740771\n",
      " -0.11246564  0.06468657]\n",
      "Coefficients du polynôme : [-0.64235151 -1.03179179  1.39809509 -0.          0.         -0.\n",
      "  0.          0.          0.          0.          0.          0.\n",
      "  0.          0.08538575]\n",
      "Coefficients du polynôme : [-0.0524445  -0.91336141  0.         -0.          0.67681142 -0.\n",
      "  0.         -0.          0.         -0.          0.         -0.\n",
      "  0.          0.        ]\n",
      "Coefficients du polynôme : [ 0. -0.  0. -0.  0. -0.  0. -0.  0. -0.  0. -0.  0. -0.]\n",
      "Coefficients du polynôme : [ 0. -0.  0. -0.  0. -0.  0. -0.  0. -0.  0. -0.  0. -0.]\n"
     ]
    },
    {
     "name": "stderr",
     "output_type": "stream",
     "text": [
      "/usr/lib/python3.8/site-packages/sklearn/linear_model/_coordinate_descent.py:474: ConvergenceWarning: Objective did not converge. You might want to increase the number of iterations. Duality gap: 0.010198702133755667, tolerance: 0.0001850167767969061\n",
      "  model = cd_fast.enet_coordinate_descent(\n",
      "/usr/lib/python3.8/site-packages/sklearn/linear_model/_coordinate_descent.py:474: ConvergenceWarning: Objective did not converge. You might want to increase the number of iterations. Duality gap: 0.005577653870772184, tolerance: 0.0001850167767969061\n",
      "  model = cd_fast.enet_coordinate_descent(\n",
      "/usr/lib/python3.8/site-packages/sklearn/linear_model/_coordinate_descent.py:474: ConvergenceWarning: Objective did not converge. You might want to increase the number of iterations. Duality gap: 0.0004485616222001977, tolerance: 0.0001850167767969061\n",
      "  model = cd_fast.enet_coordinate_descent(\n"
     ]
    },
    {
     "data": {
      "image/png": "[encoded data removed]",
      "text/plain": [
       "<Figure size 432x288 with 1 Axes>"
      ]
     },
     "metadata": {
      "needs_background": "light"
     },
     "output_type": "display_data"
    }
   ],
   "source": [
    "for alpha in [10**a for a in range(-6,1)]:\n",
    "    f, psi = reg_poly_lasso(14,alpha)\n",
    "    plt.scatter(x,y)\n",
    "    plt.plot(xplot,f.predict(psi(xplot)))\n",
    "    plt.axis([-1, 1, -1.5, 1.5])\n",
    "    print('Coefficients du polynôme :',f.coef_)\n",
    "plt.show()"
   ]
  },
  {
   "cell_type": "markdown",
   "metadata": {
    "autoscroll": false,
    "ein.hycell": false,
    "ein.tags": "worksheet-0",
    "slideshow": {
     "slide_type": "-"
    }
   },
   "source": [
    "Pour des valeurs de alpha assez grands, l'algorithme produit des polynômes ayant beaucoup de coefficients nuls et de faible degré. Cela limite la complexité des polynômes et donc le sur-apprentissage."
   ]
  },
  {
   "cell_type": "markdown",
   "metadata": {
    "autoscroll": false,
    "ein.hycell": false,
    "ein.tags": "worksheet-0",
    "slideshow": {
     "slide_type": "-"
    }
   },
   "source": [
    "# Question 10"
   ]
  },
  {
   "cell_type": "code",
   "execution_count": 43,
   "metadata": {
    "autoscroll": false,
    "ein.hycell": false,
    "ein.tags": "worksheet-0",
    "slideshow": {
     "slide_type": "-"
    }
   },
   "outputs": [
    {
     "name": "stderr",
     "output_type": "stream",
     "text": [
      "/usr/lib/python3.8/site-packages/sklearn/linear_model/_coordinate_descent.py:474: ConvergenceWarning: Objective did not converge. You might want to increase the number of iterations. Duality gap: 0.010198702133755667, tolerance: 0.0001850167767969061\n",
      "  model = cd_fast.enet_coordinate_descent(\n",
      "/usr/lib/python3.8/site-packages/sklearn/linear_model/_coordinate_descent.py:474: ConvergenceWarning: Objective did not converge. You might want to increase the number of iterations. Duality gap: 0.005577653870772184, tolerance: 0.0001850167767969061\n",
      "  model = cd_fast.enet_coordinate_descent(\n",
      "/usr/lib/python3.8/site-packages/sklearn/linear_model/_coordinate_descent.py:474: ConvergenceWarning: Objective did not converge. You might want to increase the number of iterations. Duality gap: 0.0004485616222001977, tolerance: 0.0001850167767969061\n",
      "  model = cd_fast.enet_coordinate_descent(\n"
     ]
    },
    {
     "data": {
      "image/png": "[encoded data removed]",
      "text/plain": [
       "<Figure size 432x288 with 1 Axes>"
      ]
     },
     "metadata": {
      "needs_background": "light"
     },
     "output_type": "display_data"
    }
   ],
   "source": [
    "mean_train_error = []\n",
    "mean_test_error = []\n",
    "nonzero_coefficients = []\n",
    "degree = []\n",
    "alpha_range = [10**a for a in range(-6,1)]\n",
    "\n",
    "for alpha in alpha_range:\n",
    "    f, psi = reg_poly_lasso(14,alpha)\n",
    "    mean_train_error.append(sum((f.predict(psi(X))-y)**2)/n)\n",
    "    mean_test_error.append(sum((f.predict(psi(X_test))-y_test)**2)/n_test)\n",
    "\n",
    "plt.plot(alpha_range,mean_train_error)\n",
    "plt.plot(alpha_range,mean_test_error)\n",
    "plt.xscale('log')\n",
    "plt.yscale('log')\n",
    "plt.show()"
   ]
  },
  {
   "cell_type": "markdown",
   "metadata": {
    "autoscroll": false,
    "ein.hycell": false,
    "ein.tags": "worksheet-0",
    "slideshow": {
     "slide_type": "-"
    }
   },
   "source": [
    "Le paramètre alpha joue un rôle similaire à d dans la question 8 (mais en sens inverse). \n",
    "\n",
    "Lorsque alpha décroît, les polynômes obtenus sont de plus en plus complexes, et l'erreur d'apprentissage diminue. Mais quand alpha est assez petit, l'erreur de test augmente à nouveau: il y a alors sur-apprentissage."
   ]
  },
  {
   "cell_type": "code",
   "execution_count": null,
   "metadata": {},
   "outputs": [],
   "source": []
  }
 ],
 "metadata": {
  "kernelspec": {
   "display_name": "Python 3",
   "language": "python",
   "name": "python3"
  },
  "language_info": {
   "codemirror_mode": {
    "name": "ipython",
    "version": 3
   },
   "file_extension": ".py",
   "mimetype": "text/x-python",
   "name": "python",
   "nbconvert_exporter": "python",
   "pygments_lexer": "ipython3",
   "version": "3.8.1"
  },
  "name": "tp1-correction.ipynb"
 },
 "nbformat": 4,
 "nbformat_minor": 2
}
