{
 "cells": [
  {
   "cell_type": "code",
   "execution_count": 2,
   "metadata": {
    "autoscroll": false,
    "collapsed": false,
    "ein.hycell": false,
    "ein.tags": "worksheet-0",
    "slideshow": {
     "slide_type": "-"
    }
   },
   "outputs": [],
   "source": [
    "import numpy as np\n",
    "import pandas as pd\n",
    "import matplotlib.pyplot as plt\n",
    "import seaborn as sns"
   ]
  },
  {
   "cell_type": "code",
   "execution_count": 3,
   "metadata": {
    "autoscroll": false,
    "collapsed": false,
    "ein.hycell": false,
    "ein.tags": "worksheet-0",
    "slideshow": {
     "slide_type": "-"
    }
   },
   "outputs": [
    {
     "data": {
      "text/html": [
       "<div>\n<style scoped>\n    .dataframe tbody tr th:only-of-type {\n        vertical-align: middle;\n    }\n\n    .dataframe tbody tr th {\n        vertical-align: top;\n    }\n\n    .dataframe thead th {\n        text-align: right;\n    }\n</style>\n<table border=\"1\" class=\"dataframe\">\n  <thead>\n    <tr style=\"text-align: right;\">\n      <th></th>\n      <th>fixed_acidity</th>\n      <th>volatile_acidity</th>\n      <th>citric_acid</th>\n      <th>residual_sugar</th>\n      <th>chlorides</th>\n      <th>free_sulfur_dioxide</th>\n      <th>total_sulfur_dioxide</th>\n      <th>density</th>\n      <th>pH</th>\n      <th>sulphates</th>\n      <th>alcohol</th>\n      <th>quality</th>\n      <th>style</th>\n    </tr>\n  </thead>\n  <tbody>\n    <tr>\n      <th>0</th>\n      <td>7.4</td>\n      <td>0.70</td>\n      <td>0.00</td>\n      <td>1.9</td>\n      <td>0.076</td>\n      <td>11.0</td>\n      <td>34.0</td>\n      <td>0.9978</td>\n      <td>3.51</td>\n      <td>0.56</td>\n      <td>9.4</td>\n      <td>5</td>\n      <td>red</td>\n    </tr>\n    <tr>\n      <th>1</th>\n      <td>7.8</td>\n      <td>0.88</td>\n      <td>0.00</td>\n      <td>2.6</td>\n      <td>0.098</td>\n      <td>25.0</td>\n      <td>67.0</td>\n      <td>0.9968</td>\n      <td>3.20</td>\n      <td>0.68</td>\n      <td>9.8</td>\n      <td>5</td>\n      <td>red</td>\n    </tr>\n    <tr>\n      <th>2</th>\n      <td>7.8</td>\n      <td>0.76</td>\n      <td>0.04</td>\n      <td>2.3</td>\n      <td>0.092</td>\n      <td>15.0</td>\n      <td>54.0</td>\n      <td>0.9970</td>\n      <td>3.26</td>\n      <td>0.65</td>\n      <td>9.8</td>\n      <td>5</td>\n      <td>red</td>\n    </tr>\n    <tr>\n      <th>3</th>\n      <td>11.2</td>\n      <td>0.28</td>\n      <td>0.56</td>\n      <td>1.9</td>\n      <td>0.075</td>\n      <td>17.0</td>\n      <td>60.0</td>\n      <td>0.9980</td>\n      <td>3.16</td>\n      <td>0.58</td>\n      <td>9.8</td>\n      <td>6</td>\n      <td>red</td>\n    </tr>\n    <tr>\n      <th>4</th>\n      <td>7.4</td>\n      <td>0.70</td>\n      <td>0.00</td>\n      <td>1.9</td>\n      <td>0.076</td>\n      <td>11.0</td>\n      <td>34.0</td>\n      <td>0.9978</td>\n      <td>3.51</td>\n      <td>0.56</td>\n      <td>9.4</td>\n      <td>5</td>\n      <td>red</td>\n    </tr>\n  </tbody>\n</table>\n</div>"
      ],
      "text/plain": [
       "   fixed_acidity  volatile_acidity  citric_acid  residual_sugar  chlorides  \\\n0            7.4              0.70         0.00             1.9      0.076   \n1            7.8              0.88         0.00             2.6      0.098   \n2            7.8              0.76         0.04             2.3      0.092   \n3           11.2              0.28         0.56             1.9      0.075   \n4            7.4              0.70         0.00             1.9      0.076   \n\n   free_sulfur_dioxide  total_sulfur_dioxide  density    pH  sulphates  \\\n0                 11.0                  34.0   0.9978  3.51       0.56   \n1                 25.0                  67.0   0.9968  3.20       0.68   \n2                 15.0                  54.0   0.9970  3.26       0.65   \n3                 17.0                  60.0   0.9980  3.16       0.58   \n4                 11.0                  34.0   0.9978  3.51       0.56   \n\n   alcohol  quality style  \n0      9.4        5   red  \n1      9.8        5   red  \n2      9.8        5   red  \n3      9.8        6   red  \n4      9.4        5   red  "
      ]
     },
     "execution_count": 3,
     "metadata": {},
     "output_type": "execute_result"
    }
   ],
   "source": [
    "data = pd.read_csv('wine_dataset.csv')\n",
    "data.head()"
   ]
  },
  {
   "cell_type": "markdown",
   "metadata": {
    "ein.tags": "worksheet-0",
    "slideshow": {
     "slide_type": "-"
    }
   },
   "source": [
    "# Question 1"
   ]
  },
  {
   "cell_type": "code",
   "execution_count": 4,
   "metadata": {
    "autoscroll": false,
    "collapsed": false,
    "ein.hycell": false,
    "ein.tags": "worksheet-0",
    "slideshow": {
     "slide_type": "-"
    }
   },
   "outputs": [
    {
     "data": {
      "text/html": [
       "<div>\n<style scoped>\n    .dataframe tbody tr th:only-of-type {\n        vertical-align: middle;\n    }\n\n    .dataframe tbody tr th {\n        vertical-align: top;\n    }\n\n    .dataframe thead th {\n        text-align: right;\n    }\n</style>\n<table border=\"1\" class=\"dataframe\">\n  <thead>\n    <tr style=\"text-align: right;\">\n      <th></th>\n      <th>fixed_acidity</th>\n      <th>volatile_acidity</th>\n      <th>citric_acid</th>\n      <th>residual_sugar</th>\n      <th>chlorides</th>\n      <th>free_sulfur_dioxide</th>\n      <th>total_sulfur_dioxide</th>\n      <th>density</th>\n      <th>pH</th>\n      <th>sulphates</th>\n      <th>alcohol</th>\n      <th>quality</th>\n      <th>style</th>\n    </tr>\n  </thead>\n  <tbody>\n    <tr>\n      <th>0</th>\n      <td>7.4</td>\n      <td>0.700</td>\n      <td>0.00</td>\n      <td>1.90</td>\n      <td>0.076</td>\n      <td>11.0</td>\n      <td>34.0</td>\n      <td>0.99780</td>\n      <td>3.51</td>\n      <td>0.56</td>\n      <td>9.400000</td>\n      <td>5</td>\n      <td>red</td>\n    </tr>\n    <tr>\n      <th>1</th>\n      <td>7.8</td>\n      <td>0.880</td>\n      <td>0.00</td>\n      <td>2.60</td>\n      <td>0.098</td>\n      <td>25.0</td>\n      <td>67.0</td>\n      <td>0.99680</td>\n      <td>3.20</td>\n      <td>0.68</td>\n      <td>9.800000</td>\n      <td>5</td>\n      <td>red</td>\n    </tr>\n    <tr>\n      <th>2</th>\n      <td>7.8</td>\n      <td>0.760</td>\n      <td>0.04</td>\n      <td>2.30</td>\n      <td>0.092</td>\n      <td>15.0</td>\n      <td>54.0</td>\n      <td>0.99700</td>\n      <td>3.26</td>\n      <td>0.65</td>\n      <td>9.800000</td>\n      <td>5</td>\n      <td>red</td>\n    </tr>\n    <tr>\n      <th>3</th>\n      <td>11.2</td>\n      <td>0.280</td>\n      <td>0.56</td>\n      <td>1.90</td>\n      <td>0.075</td>\n      <td>17.0</td>\n      <td>60.0</td>\n      <td>0.99800</td>\n      <td>3.16</td>\n      <td>0.58</td>\n      <td>9.800000</td>\n      <td>6</td>\n      <td>red</td>\n    </tr>\n    <tr>\n      <th>4</th>\n      <td>7.4</td>\n      <td>0.700</td>\n      <td>0.00</td>\n      <td>1.90</td>\n      <td>0.076</td>\n      <td>11.0</td>\n      <td>34.0</td>\n      <td>0.99780</td>\n      <td>3.51</td>\n      <td>0.56</td>\n      <td>9.400000</td>\n      <td>5</td>\n      <td>red</td>\n    </tr>\n    <tr>\n      <th>5</th>\n      <td>7.4</td>\n      <td>0.660</td>\n      <td>0.00</td>\n      <td>1.80</td>\n      <td>0.075</td>\n      <td>13.0</td>\n      <td>40.0</td>\n      <td>0.99780</td>\n      <td>3.51</td>\n      <td>0.56</td>\n      <td>9.400000</td>\n      <td>5</td>\n      <td>red</td>\n    </tr>\n    <tr>\n      <th>6</th>\n      <td>7.9</td>\n      <td>0.600</td>\n      <td>0.06</td>\n      <td>1.60</td>\n      <td>0.069</td>\n      <td>15.0</td>\n      <td>59.0</td>\n      <td>0.99640</td>\n      <td>3.30</td>\n      <td>0.46</td>\n      <td>9.400000</td>\n      <td>5</td>\n      <td>red</td>\n    </tr>\n    <tr>\n      <th>7</th>\n      <td>7.3</td>\n      <td>0.650</td>\n      <td>0.00</td>\n      <td>1.20</td>\n      <td>0.065</td>\n      <td>15.0</td>\n      <td>21.0</td>\n      <td>0.99460</td>\n      <td>3.39</td>\n      <td>0.47</td>\n      <td>10.000000</td>\n      <td>7</td>\n      <td>red</td>\n    </tr>\n    <tr>\n      <th>8</th>\n      <td>7.8</td>\n      <td>0.580</td>\n      <td>0.02</td>\n      <td>2.00</td>\n      <td>0.073</td>\n      <td>9.0</td>\n      <td>18.0</td>\n      <td>0.99680</td>\n      <td>3.36</td>\n      <td>0.57</td>\n      <td>9.500000</td>\n      <td>7</td>\n      <td>red</td>\n    </tr>\n    <tr>\n      <th>9</th>\n      <td>7.5</td>\n      <td>0.500</td>\n      <td>0.36</td>\n      <td>6.10</td>\n      <td>0.071</td>\n      <td>17.0</td>\n      <td>102.0</td>\n      <td>0.99780</td>\n      <td>3.35</td>\n      <td>0.80</td>\n      <td>10.500000</td>\n      <td>5</td>\n      <td>red</td>\n    </tr>\n    <tr>\n      <th>10</th>\n      <td>6.7</td>\n      <td>0.580</td>\n      <td>0.08</td>\n      <td>1.80</td>\n      <td>0.097</td>\n      <td>15.0</td>\n      <td>65.0</td>\n      <td>0.99590</td>\n      <td>3.28</td>\n      <td>0.54</td>\n      <td>9.200000</td>\n      <td>5</td>\n      <td>red</td>\n    </tr>\n    <tr>\n      <th>11</th>\n      <td>7.5</td>\n      <td>0.500</td>\n      <td>0.36</td>\n      <td>6.10</td>\n      <td>0.071</td>\n      <td>17.0</td>\n      <td>102.0</td>\n      <td>0.99780</td>\n      <td>3.35</td>\n      <td>0.80</td>\n      <td>10.500000</td>\n      <td>5</td>\n      <td>red</td>\n    </tr>\n    <tr>\n      <th>12</th>\n      <td>5.6</td>\n      <td>0.615</td>\n      <td>0.00</td>\n      <td>1.60</td>\n      <td>0.089</td>\n      <td>16.0</td>\n      <td>59.0</td>\n      <td>0.99430</td>\n      <td>3.58</td>\n      <td>0.52</td>\n      <td>9.900000</td>\n      <td>5</td>\n      <td>red</td>\n    </tr>\n    <tr>\n      <th>13</th>\n      <td>7.8</td>\n      <td>0.610</td>\n      <td>0.29</td>\n      <td>1.60</td>\n      <td>0.114</td>\n      <td>9.0</td>\n      <td>29.0</td>\n      <td>0.99740</td>\n      <td>3.26</td>\n      <td>1.56</td>\n      <td>9.100000</td>\n      <td>5</td>\n      <td>red</td>\n    </tr>\n    <tr>\n      <th>14</th>\n      <td>8.9</td>\n      <td>0.620</td>\n      <td>0.18</td>\n      <td>3.80</td>\n      <td>0.176</td>\n      <td>52.0</td>\n      <td>145.0</td>\n      <td>0.99860</td>\n      <td>3.16</td>\n      <td>0.88</td>\n      <td>9.200000</td>\n      <td>5</td>\n      <td>red</td>\n    </tr>\n    <tr>\n      <th>15</th>\n      <td>8.9</td>\n      <td>0.620</td>\n      <td>0.19</td>\n      <td>3.90</td>\n      <td>0.170</td>\n      <td>51.0</td>\n      <td>148.0</td>\n      <td>0.99860</td>\n      <td>3.17</td>\n      <td>0.93</td>\n      <td>9.200000</td>\n      <td>5</td>\n      <td>red</td>\n    </tr>\n    <tr>\n      <th>16</th>\n      <td>8.5</td>\n      <td>0.280</td>\n      <td>0.56</td>\n      <td>1.80</td>\n      <td>0.092</td>\n      <td>35.0</td>\n      <td>103.0</td>\n      <td>0.99690</td>\n      <td>3.30</td>\n      <td>0.75</td>\n      <td>10.500000</td>\n      <td>7</td>\n      <td>red</td>\n    </tr>\n    <tr>\n      <th>17</th>\n      <td>8.1</td>\n      <td>0.560</td>\n      <td>0.28</td>\n      <td>1.70</td>\n      <td>0.368</td>\n      <td>16.0</td>\n      <td>56.0</td>\n      <td>0.99680</td>\n      <td>3.11</td>\n      <td>1.28</td>\n      <td>9.300000</td>\n      <td>5</td>\n      <td>red</td>\n    </tr>\n    <tr>\n      <th>18</th>\n      <td>7.4</td>\n      <td>0.590</td>\n      <td>0.08</td>\n      <td>4.40</td>\n      <td>0.086</td>\n      <td>6.0</td>\n      <td>29.0</td>\n      <td>0.99740</td>\n      <td>3.38</td>\n      <td>0.50</td>\n      <td>9.000000</td>\n      <td>4</td>\n      <td>red</td>\n    </tr>\n    <tr>\n      <th>19</th>\n      <td>7.9</td>\n      <td>0.320</td>\n      <td>0.51</td>\n      <td>1.80</td>\n      <td>0.341</td>\n      <td>17.0</td>\n      <td>56.0</td>\n      <td>0.99690</td>\n      <td>3.04</td>\n      <td>1.08</td>\n      <td>9.200000</td>\n      <td>6</td>\n      <td>red</td>\n    </tr>\n    <tr>\n      <th>20</th>\n      <td>8.9</td>\n      <td>0.220</td>\n      <td>0.48</td>\n      <td>1.80</td>\n      <td>0.077</td>\n      <td>29.0</td>\n      <td>60.0</td>\n      <td>0.99680</td>\n      <td>3.39</td>\n      <td>0.53</td>\n      <td>9.400000</td>\n      <td>6</td>\n      <td>red</td>\n    </tr>\n    <tr>\n      <th>21</th>\n      <td>7.6</td>\n      <td>0.390</td>\n      <td>0.31</td>\n      <td>2.30</td>\n      <td>0.082</td>\n      <td>23.0</td>\n      <td>71.0</td>\n      <td>0.99820</td>\n      <td>3.52</td>\n      <td>0.65</td>\n      <td>9.700000</td>\n      <td>5</td>\n      <td>red</td>\n    </tr>\n    <tr>\n      <th>22</th>\n      <td>7.9</td>\n      <td>0.430</td>\n      <td>0.21</td>\n      <td>1.60</td>\n      <td>0.106</td>\n      <td>10.0</td>\n      <td>37.0</td>\n      <td>0.99660</td>\n      <td>3.17</td>\n      <td>0.91</td>\n      <td>9.500000</td>\n      <td>5</td>\n      <td>red</td>\n    </tr>\n    <tr>\n      <th>23</th>\n      <td>8.5</td>\n      <td>0.490</td>\n      <td>0.11</td>\n      <td>2.30</td>\n      <td>0.084</td>\n      <td>9.0</td>\n      <td>67.0</td>\n      <td>0.99680</td>\n      <td>3.17</td>\n      <td>0.53</td>\n      <td>9.400000</td>\n      <td>5</td>\n      <td>red</td>\n    </tr>\n    <tr>\n      <th>24</th>\n      <td>6.9</td>\n      <td>0.400</td>\n      <td>0.14</td>\n      <td>2.40</td>\n      <td>0.085</td>\n      <td>21.0</td>\n      <td>40.0</td>\n      <td>0.99680</td>\n      <td>3.43</td>\n      <td>0.63</td>\n      <td>9.700000</td>\n      <td>6</td>\n      <td>red</td>\n    </tr>\n    <tr>\n      <th>25</th>\n      <td>6.3</td>\n      <td>0.390</td>\n      <td>0.16</td>\n      <td>1.40</td>\n      <td>0.080</td>\n      <td>11.0</td>\n      <td>23.0</td>\n      <td>0.99550</td>\n      <td>3.34</td>\n      <td>0.56</td>\n      <td>9.300000</td>\n      <td>5</td>\n      <td>red</td>\n    </tr>\n    <tr>\n      <th>26</th>\n      <td>7.6</td>\n      <td>0.410</td>\n      <td>0.24</td>\n      <td>1.80</td>\n      <td>0.080</td>\n      <td>4.0</td>\n      <td>11.0</td>\n      <td>0.99620</td>\n      <td>3.28</td>\n      <td>0.59</td>\n      <td>9.500000</td>\n      <td>5</td>\n      <td>red</td>\n    </tr>\n    <tr>\n      <th>27</th>\n      <td>7.9</td>\n      <td>0.430</td>\n      <td>0.21</td>\n      <td>1.60</td>\n      <td>0.106</td>\n      <td>10.0</td>\n      <td>37.0</td>\n      <td>0.99660</td>\n      <td>3.17</td>\n      <td>0.91</td>\n      <td>9.500000</td>\n      <td>5</td>\n      <td>red</td>\n    </tr>\n    <tr>\n      <th>28</th>\n      <td>7.1</td>\n      <td>0.710</td>\n      <td>0.00</td>\n      <td>1.90</td>\n      <td>0.080</td>\n      <td>14.0</td>\n      <td>35.0</td>\n      <td>0.99720</td>\n      <td>3.47</td>\n      <td>0.55</td>\n      <td>9.400000</td>\n      <td>5</td>\n      <td>red</td>\n    </tr>\n    <tr>\n      <th>29</th>\n      <td>7.8</td>\n      <td>0.645</td>\n      <td>0.00</td>\n      <td>2.00</td>\n      <td>0.082</td>\n      <td>8.0</td>\n      <td>16.0</td>\n      <td>0.99640</td>\n      <td>3.38</td>\n      <td>0.59</td>\n      <td>9.800000</td>\n      <td>6</td>\n      <td>red</td>\n    </tr>\n    <tr>\n      <th>...</th>\n      <td>...</td>\n      <td>...</td>\n      <td>...</td>\n      <td>...</td>\n      <td>...</td>\n      <td>...</td>\n      <td>...</td>\n      <td>...</td>\n      <td>...</td>\n      <td>...</td>\n      <td>...</td>\n      <td>...</td>\n      <td>...</td>\n    </tr>\n    <tr>\n      <th>6467</th>\n      <td>5.8</td>\n      <td>0.230</td>\n      <td>0.31</td>\n      <td>4.50</td>\n      <td>0.046</td>\n      <td>42.0</td>\n      <td>124.0</td>\n      <td>0.99324</td>\n      <td>3.31</td>\n      <td>0.64</td>\n      <td>10.800000</td>\n      <td>6</td>\n      <td>white</td>\n    </tr>\n    <tr>\n      <th>6468</th>\n      <td>6.6</td>\n      <td>0.240</td>\n      <td>0.33</td>\n      <td>10.10</td>\n      <td>0.032</td>\n      <td>8.0</td>\n      <td>81.0</td>\n      <td>0.99626</td>\n      <td>3.19</td>\n      <td>0.51</td>\n      <td>9.800000</td>\n      <td>6</td>\n      <td>white</td>\n    </tr>\n    <tr>\n      <th>6469</th>\n      <td>6.1</td>\n      <td>0.320</td>\n      <td>0.28</td>\n      <td>6.60</td>\n      <td>0.021</td>\n      <td>29.0</td>\n      <td>132.0</td>\n      <td>0.99188</td>\n      <td>3.15</td>\n      <td>0.36</td>\n      <td>11.450000</td>\n      <td>7</td>\n      <td>white</td>\n    </tr>\n    <tr>\n      <th>6470</th>\n      <td>5.0</td>\n      <td>0.200</td>\n      <td>0.40</td>\n      <td>1.90</td>\n      <td>0.015</td>\n      <td>20.0</td>\n      <td>98.0</td>\n      <td>0.98970</td>\n      <td>3.37</td>\n      <td>0.55</td>\n      <td>12.050000</td>\n      <td>6</td>\n      <td>white</td>\n    </tr>\n    <tr>\n      <th>6471</th>\n      <td>6.0</td>\n      <td>0.420</td>\n      <td>0.41</td>\n      <td>12.40</td>\n      <td>0.032</td>\n      <td>50.0</td>\n      <td>179.0</td>\n      <td>0.99622</td>\n      <td>3.14</td>\n      <td>0.60</td>\n      <td>9.700000</td>\n      <td>5</td>\n      <td>white</td>\n    </tr>\n    <tr>\n      <th>6472</th>\n      <td>5.7</td>\n      <td>0.210</td>\n      <td>0.32</td>\n      <td>1.60</td>\n      <td>0.030</td>\n      <td>33.0</td>\n      <td>122.0</td>\n      <td>0.99044</td>\n      <td>3.33</td>\n      <td>0.52</td>\n      <td>11.900000</td>\n      <td>6</td>\n      <td>white</td>\n    </tr>\n    <tr>\n      <th>6473</th>\n      <td>5.6</td>\n      <td>0.200</td>\n      <td>0.36</td>\n      <td>2.50</td>\n      <td>0.048</td>\n      <td>16.0</td>\n      <td>125.0</td>\n      <td>0.99282</td>\n      <td>3.49</td>\n      <td>0.49</td>\n      <td>10.000000</td>\n      <td>6</td>\n      <td>white</td>\n    </tr>\n    <tr>\n      <th>6474</th>\n      <td>7.4</td>\n      <td>0.220</td>\n      <td>0.26</td>\n      <td>1.20</td>\n      <td>0.035</td>\n      <td>18.0</td>\n      <td>97.0</td>\n      <td>0.99245</td>\n      <td>3.12</td>\n      <td>0.41</td>\n      <td>9.700000</td>\n      <td>6</td>\n      <td>white</td>\n    </tr>\n    <tr>\n      <th>6475</th>\n      <td>6.2</td>\n      <td>0.380</td>\n      <td>0.42</td>\n      <td>2.50</td>\n      <td>0.038</td>\n      <td>34.0</td>\n      <td>117.0</td>\n      <td>0.99132</td>\n      <td>3.36</td>\n      <td>0.59</td>\n      <td>11.600000</td>\n      <td>7</td>\n      <td>white</td>\n    </tr>\n    <tr>\n      <th>6476</th>\n      <td>5.9</td>\n      <td>0.540</td>\n      <td>0.00</td>\n      <td>0.80</td>\n      <td>0.032</td>\n      <td>12.0</td>\n      <td>82.0</td>\n      <td>0.99286</td>\n      <td>3.25</td>\n      <td>0.36</td>\n      <td>8.800000</td>\n      <td>5</td>\n      <td>white</td>\n    </tr>\n    <tr>\n      <th>6477</th>\n      <td>6.2</td>\n      <td>0.530</td>\n      <td>0.02</td>\n      <td>0.90</td>\n      <td>0.035</td>\n      <td>6.0</td>\n      <td>81.0</td>\n      <td>0.99234</td>\n      <td>3.24</td>\n      <td>0.35</td>\n      <td>9.500000</td>\n      <td>4</td>\n      <td>white</td>\n    </tr>\n    <tr>\n      <th>6478</th>\n      <td>6.6</td>\n      <td>0.340</td>\n      <td>0.40</td>\n      <td>8.10</td>\n      <td>0.046</td>\n      <td>68.0</td>\n      <td>170.0</td>\n      <td>0.99494</td>\n      <td>3.15</td>\n      <td>0.50</td>\n      <td>9.533333</td>\n      <td>6</td>\n      <td>white</td>\n    </tr>\n    <tr>\n      <th>6479</th>\n      <td>6.6</td>\n      <td>0.340</td>\n      <td>0.40</td>\n      <td>8.10</td>\n      <td>0.046</td>\n      <td>68.0</td>\n      <td>170.0</td>\n      <td>0.99494</td>\n      <td>3.15</td>\n      <td>0.50</td>\n      <td>9.533333</td>\n      <td>6</td>\n      <td>white</td>\n    </tr>\n    <tr>\n      <th>6480</th>\n      <td>5.0</td>\n      <td>0.235</td>\n      <td>0.27</td>\n      <td>11.75</td>\n      <td>0.030</td>\n      <td>34.0</td>\n      <td>118.0</td>\n      <td>0.99540</td>\n      <td>3.07</td>\n      <td>0.50</td>\n      <td>9.400000</td>\n      <td>6</td>\n      <td>white</td>\n    </tr>\n    <tr>\n      <th>6481</th>\n      <td>5.5</td>\n      <td>0.320</td>\n      <td>0.13</td>\n      <td>1.30</td>\n      <td>0.037</td>\n      <td>45.0</td>\n      <td>156.0</td>\n      <td>0.99184</td>\n      <td>3.26</td>\n      <td>0.38</td>\n      <td>10.700000</td>\n      <td>5</td>\n      <td>white</td>\n    </tr>\n    <tr>\n      <th>6482</th>\n      <td>4.9</td>\n      <td>0.470</td>\n      <td>0.17</td>\n      <td>1.90</td>\n      <td>0.035</td>\n      <td>60.0</td>\n      <td>148.0</td>\n      <td>0.98964</td>\n      <td>3.27</td>\n      <td>0.35</td>\n      <td>11.500000</td>\n      <td>6</td>\n      <td>white</td>\n    </tr>\n    <tr>\n      <th>6483</th>\n      <td>6.5</td>\n      <td>0.330</td>\n      <td>0.38</td>\n      <td>8.30</td>\n      <td>0.048</td>\n      <td>68.0</td>\n      <td>174.0</td>\n      <td>0.99492</td>\n      <td>3.14</td>\n      <td>0.50</td>\n      <td>9.600000</td>\n      <td>5</td>\n      <td>white</td>\n    </tr>\n    <tr>\n      <th>6484</th>\n      <td>6.6</td>\n      <td>0.340</td>\n      <td>0.40</td>\n      <td>8.10</td>\n      <td>0.046</td>\n      <td>68.0</td>\n      <td>170.0</td>\n      <td>0.99494</td>\n      <td>3.15</td>\n      <td>0.50</td>\n      <td>9.550000</td>\n      <td>6</td>\n      <td>white</td>\n    </tr>\n    <tr>\n      <th>6485</th>\n      <td>6.2</td>\n      <td>0.210</td>\n      <td>0.28</td>\n      <td>5.70</td>\n      <td>0.028</td>\n      <td>45.0</td>\n      <td>121.0</td>\n      <td>0.99168</td>\n      <td>3.21</td>\n      <td>1.08</td>\n      <td>12.150000</td>\n      <td>7</td>\n      <td>white</td>\n    </tr>\n    <tr>\n      <th>6486</th>\n      <td>6.2</td>\n      <td>0.410</td>\n      <td>0.22</td>\n      <td>1.90</td>\n      <td>0.023</td>\n      <td>5.0</td>\n      <td>56.0</td>\n      <td>0.98928</td>\n      <td>3.04</td>\n      <td>0.79</td>\n      <td>13.000000</td>\n      <td>7</td>\n      <td>white</td>\n    </tr>\n    <tr>\n      <th>6487</th>\n      <td>6.8</td>\n      <td>0.220</td>\n      <td>0.36</td>\n      <td>1.20</td>\n      <td>0.052</td>\n      <td>38.0</td>\n      <td>127.0</td>\n      <td>0.99330</td>\n      <td>3.04</td>\n      <td>0.54</td>\n      <td>9.200000</td>\n      <td>5</td>\n      <td>white</td>\n    </tr>\n    <tr>\n      <th>6488</th>\n      <td>4.9</td>\n      <td>0.235</td>\n      <td>0.27</td>\n      <td>11.75</td>\n      <td>0.030</td>\n      <td>34.0</td>\n      <td>118.0</td>\n      <td>0.99540</td>\n      <td>3.07</td>\n      <td>0.50</td>\n      <td>9.400000</td>\n      <td>6</td>\n      <td>white</td>\n    </tr>\n    <tr>\n      <th>6489</th>\n      <td>6.1</td>\n      <td>0.340</td>\n      <td>0.29</td>\n      <td>2.20</td>\n      <td>0.036</td>\n      <td>25.0</td>\n      <td>100.0</td>\n      <td>0.98938</td>\n      <td>3.06</td>\n      <td>0.44</td>\n      <td>11.800000</td>\n      <td>6</td>\n      <td>white</td>\n    </tr>\n    <tr>\n      <th>6490</th>\n      <td>5.7</td>\n      <td>0.210</td>\n      <td>0.32</td>\n      <td>0.90</td>\n      <td>0.038</td>\n      <td>38.0</td>\n      <td>121.0</td>\n      <td>0.99074</td>\n      <td>3.24</td>\n      <td>0.46</td>\n      <td>10.600000</td>\n      <td>6</td>\n      <td>white</td>\n    </tr>\n    <tr>\n      <th>6491</th>\n      <td>6.5</td>\n      <td>0.230</td>\n      <td>0.38</td>\n      <td>1.30</td>\n      <td>0.032</td>\n      <td>29.0</td>\n      <td>112.0</td>\n      <td>0.99298</td>\n      <td>3.29</td>\n      <td>0.54</td>\n      <td>9.700000</td>\n      <td>5</td>\n      <td>white</td>\n    </tr>\n    <tr>\n      <th>6492</th>\n      <td>6.2</td>\n      <td>0.210</td>\n      <td>0.29</td>\n      <td>1.60</td>\n      <td>0.039</td>\n      <td>24.0</td>\n      <td>92.0</td>\n      <td>0.99114</td>\n      <td>3.27</td>\n      <td>0.50</td>\n      <td>11.200000</td>\n      <td>6</td>\n      <td>white</td>\n    </tr>\n    <tr>\n      <th>6493</th>\n      <td>6.6</td>\n      <td>0.320</td>\n      <td>0.36</td>\n      <td>8.00</td>\n      <td>0.047</td>\n      <td>57.0</td>\n      <td>168.0</td>\n      <td>0.99490</td>\n      <td>3.15</td>\n      <td>0.46</td>\n      <td>9.600000</td>\n      <td>5</td>\n      <td>white</td>\n    </tr>\n    <tr>\n      <th>6494</th>\n      <td>6.5</td>\n      <td>0.240</td>\n      <td>0.19</td>\n      <td>1.20</td>\n      <td>0.041</td>\n      <td>30.0</td>\n      <td>111.0</td>\n      <td>0.99254</td>\n      <td>2.99</td>\n      <td>0.46</td>\n      <td>9.400000</td>\n      <td>6</td>\n      <td>white</td>\n    </tr>\n    <tr>\n      <th>6495</th>\n      <td>5.5</td>\n      <td>0.290</td>\n      <td>0.30</td>\n      <td>1.10</td>\n      <td>0.022</td>\n      <td>20.0</td>\n      <td>110.0</td>\n      <td>0.98869</td>\n      <td>3.34</td>\n      <td>0.38</td>\n      <td>12.800000</td>\n      <td>7</td>\n      <td>white</td>\n    </tr>\n    <tr>\n      <th>6496</th>\n      <td>6.0</td>\n      <td>0.210</td>\n      <td>0.38</td>\n      <td>0.80</td>\n      <td>0.020</td>\n      <td>22.0</td>\n      <td>98.0</td>\n      <td>0.98941</td>\n      <td>3.26</td>\n      <td>0.32</td>\n      <td>11.800000</td>\n      <td>6</td>\n      <td>white</td>\n    </tr>\n  </tbody>\n</table>\n<p>6497 rows × 13 columns</p>\n</div>"
      ],
      "text/plain": [
       "      fixed_acidity  volatile_acidity  citric_acid  residual_sugar  chlorides  \\\n0               7.4             0.700         0.00            1.90      0.076   \n1               7.8             0.880         0.00            2.60      0.098   \n2               7.8             0.760         0.04            2.30      0.092   \n3              11.2             0.280         0.56            1.90      0.075   \n4               7.4             0.700         0.00            1.90      0.076   \n5               7.4             0.660         0.00            1.80      0.075   \n6               7.9             0.600         0.06            1.60      0.069   \n7               7.3             0.650         0.00            1.20      0.065   \n8               7.8             0.580         0.02            2.00      0.073   \n9               7.5             0.500         0.36            6.10      0.071   \n10              6.7             0.580         0.08            1.80      0.097   \n11              7.5             0.500         0.36            6.10      0.071   \n12              5.6             0.615         0.00            1.60      0.089   \n13              7.8             0.610         0.29            1.60      0.114   \n14              8.9             0.620         0.18            3.80      0.176   \n15              8.9             0.620         0.19            3.90      0.170   \n16              8.5             0.280         0.56            1.80      0.092   \n17              8.1             0.560         0.28            1.70      0.368   \n18              7.4             0.590         0.08            4.40      0.086   \n19              7.9             0.320         0.51            1.80      0.341   \n20              8.9             0.220         0.48            1.80      0.077   \n21              7.6             0.390         0.31            2.30      0.082   \n22              7.9             0.430         0.21            1.60      0.106   \n23              8.5             0.490         0.11            2.30      0.084   \n24              6.9             0.400         0.14            2.40      0.085   \n25              6.3             0.390         0.16            1.40      0.080   \n26              7.6             0.410         0.24            1.80      0.080   \n27              7.9             0.430         0.21            1.60      0.106   \n28              7.1             0.710         0.00            1.90      0.080   \n29              7.8             0.645         0.00            2.00      0.082   \n...             ...               ...          ...             ...        ...   \n6467            5.8             0.230         0.31            4.50      0.046   \n6468            6.6             0.240         0.33           10.10      0.032   \n6469            6.1             0.320         0.28            6.60      0.021   \n6470            5.0             0.200         0.40            1.90      0.015   \n6471            6.0             0.420         0.41           12.40      0.032   \n6472            5.7             0.210         0.32            1.60      0.030   \n6473            5.6             0.200         0.36            2.50      0.048   \n6474            7.4             0.220         0.26            1.20      0.035   \n6475            6.2             0.380         0.42            2.50      0.038   \n6476            5.9             0.540         0.00            0.80      0.032   \n6477            6.2             0.530         0.02            0.90      0.035   \n6478            6.6             0.340         0.40            8.10      0.046   \n6479            6.6             0.340         0.40            8.10      0.046   \n6480            5.0             0.235         0.27           11.75      0.030   \n6481            5.5             0.320         0.13            1.30      0.037   \n6482            4.9             0.470         0.17            1.90      0.035   \n6483            6.5             0.330         0.38            8.30      0.048   \n6484            6.6             0.340         0.40            8.10      0.046   \n6485            6.2             0.210         0.28            5.70      0.028   \n6486            6.2             0.410         0.22            1.90      0.023   \n6487            6.8             0.220         0.36            1.20      0.052   \n6488            4.9             0.235         0.27           11.75      0.030   \n6489            6.1             0.340         0.29            2.20      0.036   \n6490            5.7             0.210         0.32            0.90      0.038   \n6491            6.5             0.230         0.38            1.30      0.032   \n6492            6.2             0.210         0.29            1.60      0.039   \n6493            6.6             0.320         0.36            8.00      0.047   \n6494            6.5             0.240         0.19            1.20      0.041   \n6495            5.5             0.290         0.30            1.10      0.022   \n6496            6.0             0.210         0.38            0.80      0.020   \n\n      free_sulfur_dioxide  total_sulfur_dioxide  density    pH  sulphates  \\\n0                    11.0                  34.0  0.99780  3.51       0.56   \n1                    25.0                  67.0  0.99680  3.20       0.68   \n2                    15.0                  54.0  0.99700  3.26       0.65   \n3                    17.0                  60.0  0.99800  3.16       0.58   \n4                    11.0                  34.0  0.99780  3.51       0.56   \n5                    13.0                  40.0  0.99780  3.51       0.56   \n6                    15.0                  59.0  0.99640  3.30       0.46   \n7                    15.0                  21.0  0.99460  3.39       0.47   \n8                     9.0                  18.0  0.99680  3.36       0.57   \n9                    17.0                 102.0  0.99780  3.35       0.80   \n10                   15.0                  65.0  0.99590  3.28       0.54   \n11                   17.0                 102.0  0.99780  3.35       0.80   \n12                   16.0                  59.0  0.99430  3.58       0.52   \n13                    9.0                  29.0  0.99740  3.26       1.56   \n14                   52.0                 145.0  0.99860  3.16       0.88   \n15                   51.0                 148.0  0.99860  3.17       0.93   \n16                   35.0                 103.0  0.99690  3.30       0.75   \n17                   16.0                  56.0  0.99680  3.11       1.28   \n18                    6.0                  29.0  0.99740  3.38       0.50   \n19                   17.0                  56.0  0.99690  3.04       1.08   \n20                   29.0                  60.0  0.99680  3.39       0.53   \n21                   23.0                  71.0  0.99820  3.52       0.65   \n22                   10.0                  37.0  0.99660  3.17       0.91   \n23                    9.0                  67.0  0.99680  3.17       0.53   \n24                   21.0                  40.0  0.99680  3.43       0.63   \n25                   11.0                  23.0  0.99550  3.34       0.56   \n26                    4.0                  11.0  0.99620  3.28       0.59   \n27                   10.0                  37.0  0.99660  3.17       0.91   \n28                   14.0                  35.0  0.99720  3.47       0.55   \n29                    8.0                  16.0  0.99640  3.38       0.59   \n...                   ...                   ...      ...   ...        ...   \n6467                 42.0                 124.0  0.99324  3.31       0.64   \n6468                  8.0                  81.0  0.99626  3.19       0.51   \n6469                 29.0                 132.0  0.99188  3.15       0.36   \n6470                 20.0                  98.0  0.98970  3.37       0.55   \n6471                 50.0                 179.0  0.99622  3.14       0.60   \n6472                 33.0                 122.0  0.99044  3.33       0.52   \n6473                 16.0                 125.0  0.99282  3.49       0.49   \n6474                 18.0                  97.0  0.99245  3.12       0.41   \n6475                 34.0                 117.0  0.99132  3.36       0.59   \n6476                 12.0                  82.0  0.99286  3.25       0.36   \n6477                  6.0                  81.0  0.99234  3.24       0.35   \n6478                 68.0                 170.0  0.99494  3.15       0.50   \n6479                 68.0                 170.0  0.99494  3.15       0.50   \n6480                 34.0                 118.0  0.99540  3.07       0.50   \n6481                 45.0                 156.0  0.99184  3.26       0.38   \n6482                 60.0                 148.0  0.98964  3.27       0.35   \n6483                 68.0                 174.0  0.99492  3.14       0.50   \n6484                 68.0                 170.0  0.99494  3.15       0.50   \n6485                 45.0                 121.0  0.99168  3.21       1.08   \n6486                  5.0                  56.0  0.98928  3.04       0.79   \n6487                 38.0                 127.0  0.99330  3.04       0.54   \n6488                 34.0                 118.0  0.99540  3.07       0.50   \n6489                 25.0                 100.0  0.98938  3.06       0.44   \n6490                 38.0                 121.0  0.99074  3.24       0.46   \n6491                 29.0                 112.0  0.99298  3.29       0.54   \n6492                 24.0                  92.0  0.99114  3.27       0.50   \n6493                 57.0                 168.0  0.99490  3.15       0.46   \n6494                 30.0                 111.0  0.99254  2.99       0.46   \n6495                 20.0                 110.0  0.98869  3.34       0.38   \n6496                 22.0                  98.0  0.98941  3.26       0.32   \n\n        alcohol  quality  style  \n0      9.400000        5    red  \n1      9.800000        5    red  \n2      9.800000        5    red  \n3      9.800000        6    red  \n4      9.400000        5    red  \n5      9.400000        5    red  \n6      9.400000        5    red  \n7     10.000000        7    red  \n8      9.500000        7    red  \n9     10.500000        5    red  \n10     9.200000        5    red  \n11    10.500000        5    red  \n12     9.900000        5    red  \n13     9.100000        5    red  \n14     9.200000        5    red  \n15     9.200000        5    red  \n16    10.500000        7    red  \n17     9.300000        5    red  \n18     9.000000        4    red  \n19     9.200000        6    red  \n20     9.400000        6    red  \n21     9.700000        5    red  \n22     9.500000        5    red  \n23     9.400000        5    red  \n24     9.700000        6    red  \n25     9.300000        5    red  \n26     9.500000        5    red  \n27     9.500000        5    red  \n28     9.400000        5    red  \n29     9.800000        6    red  \n...         ...      ...    ...  \n6467  10.800000        6  white  \n6468   9.800000        6  white  \n6469  11.450000        7  white  \n6470  12.050000        6  white  \n6471   9.700000        5  white  \n6472  11.900000        6  white  \n6473  10.000000        6  white  \n6474   9.700000        6  white  \n6475  11.600000        7  white  \n6476   8.800000        5  white  \n6477   9.500000        4  white  \n6478   9.533333        6  white  \n6479   9.533333        6  white  \n6480   9.400000        6  white  \n6481  10.700000        5  white  \n6482  11.500000        6  white  \n6483   9.600000        5  white  \n6484   9.550000        6  white  \n6485  12.150000        7  white  \n6486  13.000000        7  white  \n6487   9.200000        5  white  \n6488   9.400000        6  white  \n6489  11.800000        6  white  \n6490  10.600000        6  white  \n6491   9.700000        5  white  \n6492  11.200000        6  white  \n6493   9.600000        5  white  \n6494   9.400000        6  white  \n6495  12.800000        7  white  \n6496  11.800000        6  white  \n\n[6497 rows x 13 columns]"
      ]
     },
     "execution_count": 4,
     "metadata": {},
     "output_type": "execute_result"
    }
   ],
   "source": [
    "data"
   ]
  },
  {
   "cell_type": "markdown",
   "metadata": {
    "ein.tags": "worksheet-0",
    "slideshow": {
     "slide_type": "-"
    }
   },
   "source": [
    "Le jeu de données contient 13 variables et 6497 exemples."
   ]
  },
  {
   "cell_type": "code",
   "execution_count": 5,
   "metadata": {
    "autoscroll": false,
    "collapsed": false,
    "ein.hycell": false,
    "ein.tags": "worksheet-0",
    "slideshow": {
     "slide_type": "-"
    }
   },
   "outputs": [],
   "source": [
    "data = data.drop(columns=['quality'])"
   ]
  },
  {
   "cell_type": "code",
   "execution_count": 6,
   "metadata": {
    "autoscroll": false,
    "collapsed": false,
    "ein.hycell": false,
    "ein.tags": "worksheet-0",
    "slideshow": {
     "slide_type": "-"
    }
   },
   "outputs": [
    {
     "name": "stderr",
     "output_type": "stream",
     "text": [
      "/usr/lib/python3.7/site-packages/scipy/stats/stats.py:1713: FutureWarning: Using a non-tuple sequence for multidimensional indexing is deprecated; use `arr[tuple(seq)]` instead of `arr[seq]`. In the future this will be interpreted as an array index, `arr[np.array(seq)]`, which will result either in an error or a different result.\n",
      "  return np.add.reduce(sorted[indexer] * weights, axis=axis) / sumval\n"
     ]
    },
    {
     "data": {
      "image/png": "[encoded data removed]",
      "text/plain": [
       "<Figure size 279.375x216 with 1 Axes>"
      ]
     },
     "metadata": {},
     "output_type": "display_data"
    }
   ],
   "source": [
    "g = sns.FacetGrid(data=data, hue='style')\n",
    "g.map(sns.distplot, 'fixed_acidity').add_legend()\n",
    "plt.show()"
   ]
  },
  {
   "cell_type": "code",
   "execution_count": 7,
   "metadata": {
    "autoscroll": false,
    "collapsed": false,
    "ein.hycell": false,
    "ein.tags": "worksheet-0",
    "slideshow": {
     "slide_type": "-"
    }
   },
   "outputs": [
    {
     "data": {
      "text/plain": [
       "<seaborn.axisgrid.FacetGrid at 0x7f9f8ad57748>"
      ]
     },
     "execution_count": 7,
     "metadata": {},
     "output_type": "execute_result"
    },
    {
     "data": {
      "text/plain": [
       "<Figure size 432x288 with 0 Axes>"
      ]
     },
     "metadata": {},
     "output_type": "display_data"
    },
    {
     "data": {
      "image/png": "[encoded data removed]",
      "text/plain": [
       "<Figure size 279.375x216 with 1 Axes>"
      ]
     },
     "metadata": {},
     "output_type": "display_data"
    },
    {
     "data": {
      "image/png": "[encoded data removed]",
      "text/plain": [
       "<Figure size 279.375x216 with 1 Axes>"
      ]
     },
     "metadata": {},
     "output_type": "display_data"
    }
   ],
   "source": [
    "fig = plt.figure()\n",
    "\n",
    "fig.add_subplot()\n",
    "g = sns.FacetGrid(data=data, hue='style')\n",
    "g.map(sns.distplot, 'fixed_acidity').add_legend()\n",
    "\n",
    "fig.add_subplot()\n",
    "g = sns.FacetGrid(data=data, hue='style')\n",
    "g.map(sns.distplot, 'volatile_acidity').add_legend()"
   ]
  },
  {
   "cell_type": "markdown",
   "metadata": {
    "ein.tags": "worksheet-0",
    "slideshow": {
     "slide_type": "-"
    }
   },
   "source": [
    "# Question 2"
   ]
  },
  {
   "cell_type": "code",
   "execution_count": 8,
   "metadata": {
    "autoscroll": false,
    "collapsed": false,
    "ein.hycell": false,
    "ein.tags": "worksheet-0",
    "slideshow": {
     "slide_type": "-"
    }
   },
   "outputs": [
    {
     "data": {
      "text/plain": [
       "<Figure size 432x288 with 0 Axes>"
      ]
     },
     "metadata": {},
     "output_type": "display_data"
    },
    {
     "data": {
      "image/png": "[encoded data removed]",
      "text/plain": [
       "<Figure size 216x216 with 1 Axes>"
      ]
     },
     "metadata": {},
     "output_type": "display_data"
    },
    {
     "data": {
      "image/png": "[encoded data removed]",
      "text/plain": [
       "<Figure size 216x216 with 1 Axes>"
      ]
     },
     "metadata": {},
     "output_type": "display_data"
    },
    {
     "data": {
      "image/png": "[encoded data removed]",
      "text/plain": [
       "<Figure size 216x216 with 1 Axes>"
      ]
     },
     "metadata": {},
     "output_type": "display_data"
    },
    {
     "data": {
      "image/png": "[encoded data removed]",
      "text/plain": [
       "<Figure size 216x216 with 1 Axes>"
      ]
     },
     "metadata": {},
     "output_type": "display_data"
    },
    {
     "data": {
      "image/png": "[encoded data removed]",
      "text/plain": [
       "<Figure size 216x216 with 1 Axes>"
      ]
     },
     "metadata": {},
     "output_type": "display_data"
    },
    {
     "data": {
      "image/png": "[encoded data removed]",
      "text/plain": [
       "<Figure size 216x216 with 1 Axes>"
      ]
     },
     "metadata": {},
     "output_type": "display_data"
    },
    {
     "data": {
      "image/png": "[encoded data removed]",
      "text/plain": [
       "<Figure size 216x216 with 1 Axes>"
      ]
     },
     "metadata": {},
     "output_type": "display_data"
    },
    {
     "data": {
      "image/png": "[encoded data removed]",
      "text/plain": [
       "<Figure size 216x216 with 1 Axes>"
      ]
     },
     "metadata": {},
     "output_type": "display_data"
    },
    {
     "data": {
      "image/png": "[encoded data removed]",
      "text/plain": [
       "<Figure size 216x216 with 1 Axes>"
      ]
     },
     "metadata": {},
     "output_type": "display_data"
    },
    {
     "data": {
      "image/png": "[encoded data removed]",
      "text/plain": [
       "<Figure size 216x216 with 1 Axes>"
      ]
     },
     "metadata": {},
     "output_type": "display_data"
    },
    {
     "data": {
      "image/png": "[encoded data removed]",
      "text/plain": [
       "<Figure size 216x216 with 1 Axes>"
      ]
     },
     "metadata": {},
     "output_type": "display_data"
    }
   ],
   "source": [
    "fig = plt.figure()\n",
    "for col in data.columns.drop('style'):\n",
    "   fig.add_subplot()\n",
    "   g = sns.FacetGrid(data=data, hue='style')\n",
    "   g.map(sns.distplot, col)\n",
    "plt.show()\n",
    "    "
   ]
  },
  {
   "cell_type": "markdown",
   "metadata": {
    "ein.tags": "worksheet-0",
    "slideshow": {
     "slide_type": "-"
    }
   },
   "source": [
    "# Question 3"
   ]
  },
  {
   "cell_type": "markdown",
   "metadata": {
    "ein.tags": "worksheet-0",
    "slideshow": {
     "slide_type": "-"
    }
   },
   "source": [
    "Il semble raisonnable de sélectionner les variables explicatives `volatile_acidity`, `chlorides`, `free_sulfur_dioxide`, `total_sulfur_dioxide`."
   ]
  },
  {
   "cell_type": "code",
   "execution_count": 9,
   "metadata": {
    "autoscroll": false,
    "collapsed": false,
    "ein.hycell": false,
    "ein.tags": "worksheet-0",
    "slideshow": {
     "slide_type": "-"
    }
   },
   "outputs": [],
   "source": [
    "data_reduced = data[['volatile_acidity', 'chlorides', 'free_sulfur_dioxide', 'total_sulfur_dioxide', 'style']]"
   ]
  },
  {
   "cell_type": "code",
   "execution_count": 10,
   "metadata": {
    "autoscroll": false,
    "collapsed": false,
    "ein.hycell": false,
    "ein.tags": "worksheet-0",
    "slideshow": {
     "slide_type": "-"
    }
   },
   "outputs": [],
   "source": [
    "from sklearn.model_selection import train_test_split\n",
    "X_train, X_test, y_train, y_test = train_test_split(data_reduced.drop(columns='style'), data_reduced['style'])"
   ]
  },
  {
   "cell_type": "markdown",
   "metadata": {
    "ein.tags": "worksheet-0",
    "slideshow": {
     "slide_type": "-"
    }
   },
   "source": [
    "# Question 4"
   ]
  },
  {
   "cell_type": "code",
   "execution_count": 11,
   "metadata": {
    "autoscroll": false,
    "collapsed": false,
    "ein.hycell": false,
    "ein.tags": "worksheet-0",
    "slideshow": {
     "slide_type": "-"
    }
   },
   "outputs": [
    {
     "name": "stdout",
     "output_type": "stream",
     "text": [
      "4872\n",
      "1625\n",
      "0.7498845621055872\n"
     ]
    }
   ],
   "source": [
    "print(y_train.size)\n",
    "print(y_test.size)\n",
    "print(y_train.size/(y_train.size+y_test.size))"
   ]
  },
  {
   "cell_type": "markdown",
   "metadata": {
    "ein.tags": "worksheet-0",
    "slideshow": {
     "slide_type": "-"
    }
   },
   "source": [
    "Les proporitions des échantillons d'apprentissage et de test sont de 75% - 25%."
   ]
  },
  {
   "cell_type": "code",
   "execution_count": 13,
   "metadata": {
    "autoscroll": false,
    "collapsed": false,
    "ein.hycell": false,
    "ein.tags": "worksheet-0",
    "slideshow": {
     "slide_type": "-"
    }
   },
   "outputs": [
    {
     "name": "stderr",
     "output_type": "stream",
     "text": [
      "/usr/lib/python3.7/site-packages/sklearn/linear_model/logistic.py:432: FutureWarning: Default solver will be changed to 'lbfgs' in 0.22. Specify a solver to silence this warning.\n",
      "  FutureWarning)\n"
     ]
    },
    {
     "data": {
      "text/plain": [
       "LogisticRegression(C=1.0, class_weight=None, dual=False, fit_intercept=True,\n          intercept_scaling=1, max_iter=100, multi_class='warn',\n          n_jobs=None, penalty='l2', random_state=None, solver='warn',\n          tol=0.0001, verbose=0, warm_start=False)"
      ]
     },
     "execution_count": 13,
     "metadata": {},
     "output_type": "execute_result"
    }
   ],
   "source": [
    "from sklearn.linear_model import LogisticRegression\n",
    "\n",
    "f = LogisticRegression()\n",
    "f.fit(X_train, y_train)"
   ]
  },
  {
   "cell_type": "markdown",
   "metadata": {
    "ein.tags": "worksheet-0",
    "slideshow": {
     "slide_type": "-"
    }
   },
   "source": [
    "# Question 5"
   ]
  },
  {
   "cell_type": "code",
   "execution_count": 14,
   "metadata": {
    "autoscroll": false,
    "collapsed": false,
    "ein.hycell": false,
    "ein.tags": "worksheet-0",
    "slideshow": {
     "slide_type": "-"
    }
   },
   "outputs": [
    {
     "name": "stdout",
     "output_type": "stream",
     "text": [
      "Erreur d'apprentissage: 0.04022988505747127\n",
      "Erreur de test: 0.03876923076923078\n"
     ]
    }
   ],
   "source": [
    "print('Erreur d\\'apprentissage:', 1-f.score(X_train, y_train))\n",
    "print('Erreur de test:', 1-f.score(X_test, y_test))"
   ]
  },
  {
   "cell_type": "markdown",
   "metadata": {
    "ein.tags": "worksheet-0",
    "slideshow": {
     "slide_type": "-"
    }
   },
   "source": [
    "Dans la suite, on pourra considérer directement le score plutôt que l'erreur."
   ]
  },
  {
   "cell_type": "markdown",
   "metadata": {
    "ein.tags": "worksheet-0",
    "slideshow": {
     "slide_type": "-"
    }
   },
   "source": [
    "# Question 6"
   ]
  },
  {
   "cell_type": "code",
   "execution_count": 11,
   "metadata": {
    "autoscroll": false,
    "collapsed": false,
    "ein.hycell": false,
    "ein.tags": "worksheet-0",
    "slideshow": {
     "slide_type": "-"
    }
   },
   "outputs": [
    {
     "name": "stderr",
     "output_type": "stream",
     "text": [
      "/usr/lib/python3.7/site-packages/sklearn/linear_model/stochastic_gradient.py:144: FutureWarning: max_iter and tol parameters have been added in Perceptron in 0.19. If both are left unset, they default to max_iter=5 and tol=None. If tol is not None, max_iter defaults to max_iter=1000. From 0.21, default max_iter will be 1000, and default tol will be 1e-3.\n",
      "  FutureWarning)\n"
     ]
    },
    {
     "data": {
      "text/plain": [
       "0.8012307692307692"
      ]
     },
     "execution_count": 11,
     "metadata": {},
     "output_type": "execute_result"
    }
   ],
   "source": [
    "from sklearn.linear_model import Perceptron\n",
    "perceptron = Perceptron()\n",
    "perceptron.fit(X_train,y_train)\n",
    "perceptron.score(X_test,y_test)"
   ]
  },
  {
   "cell_type": "code",
   "execution_count": 12,
   "metadata": {
    "autoscroll": false,
    "collapsed": false,
    "ein.hycell": false,
    "ein.tags": "worksheet-0",
    "slideshow": {
     "slide_type": "-"
    }
   },
   "outputs": [
    {
     "name": "stdout",
     "output_type": "stream",
     "text": [
      "Score de test du meilleur prédicteur kNN: 0.936\n"
     ]
    },
    {
     "data": {
      "image/png": "[encoded data removed]",
      "text/plain": [
       "<Figure size 432x288 with 1 Axes>"
      ]
     },
     "metadata": {},
     "output_type": "display_data"
    }
   ],
   "source": [
    "from sklearn.neighbors import KNeighborsClassifier\n",
    "\n",
    "knn = {}\n",
    "score_train = []\n",
    "score_test = []\n",
    "\n",
    "k_range = range(1,20)\n",
    "\n",
    "for k in k_range:\n",
    "   knn[k] =  KNeighborsClassifier(n_neighbors=k)\n",
    "   knn[k].fit(X_train,y_train)\n",
    "   score_train.append(knn[k].score(X_train,y_train))\n",
    "   score_test.append(knn[k].score(X_test,y_test))\n",
    "\n",
    "k_best = np.argmax(score_test)\n",
    "\n",
    "print('Score de test du meilleur prédicteur kNN:',score_test[k_best])\n",
    "\n",
    "plt.plot(list(k_range),score_train,label='erreur d\\'apprentissage')\n",
    "plt.plot(list(k_range),score_test,label='erreur de test')\n",
    "plt.legend()\n",
    "plt.show()\n"
   ]
  },
  {
   "cell_type": "markdown",
   "metadata": {
    "ein.tags": "worksheet-0",
    "slideshow": {
     "slide_type": "-"
    }
   },
   "source": [
    "La régression logistique donne le meilleur prédicteur. Le meilleur prédicteur kNN est légèrement moins bon. Le perceptron est nettement moins bon."
   ]
  },
  {
   "cell_type": "markdown",
   "metadata": {
    "ein.tags": "worksheet-0",
    "slideshow": {
     "slide_type": "-"
    }
   },
   "source": [
    "# Question 7"
   ]
  },
  {
   "cell_type": "code",
   "execution_count": 13,
   "metadata": {
    "autoscroll": false,
    "collapsed": false,
    "ein.hycell": false,
    "ein.tags": "worksheet-0",
    "slideshow": {
     "slide_type": "-"
    }
   },
   "outputs": [
    {
     "data": {
      "text/html": [
       "<div>\n",
       "<style scoped>\n",
       "    .dataframe tbody tr th:only-of-type {\n",
       "        vertical-align: middle;\n",
       "    }\n",
       "\n",
       "    .dataframe tbody tr th {\n",
       "        vertical-align: top;\n",
       "    }\n",
       "\n",
       "    .dataframe thead th {\n",
       "        text-align: right;\n",
       "    }\n",
       "</style>\n",
       "<table border=\"1\" class=\"dataframe\">\n",
       "  <thead>\n",
       "    <tr style=\"text-align: right;\">\n",
       "      <th>col_0</th>\n",
       "      <th>red</th>\n",
       "      <th>white</th>\n",
       "    </tr>\n",
       "    <tr>\n",
       "      <th>style</th>\n",
       "      <th></th>\n",
       "      <th></th>\n",
       "    </tr>\n",
       "  </thead>\n",
       "  <tbody>\n",
       "    <tr>\n",
       "      <th>red</th>\n",
       "      <td>358</td>\n",
       "      <td>36</td>\n",
       "    </tr>\n",
       "    <tr>\n",
       "      <th>white</th>\n",
       "      <td>30</td>\n",
       "      <td>1201</td>\n",
       "    </tr>\n",
       "  </tbody>\n",
       "</table>\n",
       "</div>"
      ],
      "text/plain": [
       "col_0  red  white\n",
       "style            \n",
       "red    358     36\n",
       "white   30   1201"
      ]
     },
     "execution_count": 13,
     "metadata": {},
     "output_type": "execute_result"
    }
   ],
   "source": [
    "pd.crosstab(y_test,f.predict(X_test))"
   ]
  },
  {
   "cell_type": "markdown",
   "metadata": {
    "ein.tags": "worksheet-0",
    "slideshow": {
     "slide_type": "-"
    }
   },
   "source": [
    "Dans la matrice de confusion, les lignes correspondent aux étiquettes réelles, et les colonnes aux étiquettes prédites. Pour chaque étiquette prédite, on a le nombre correspondant de chaque étiquette réelle. On remarque remarque qu'en proportition, un vin rouge est plus souvent prédit comme vin blanc que l'inverse."
   ]
  },
  {
   "cell_type": "markdown",
   "metadata": {
    "ein.tags": "worksheet-0",
    "slideshow": {
     "slide_type": "-"
    }
   },
   "source": [
    "# Question 8"
   ]
  },
  {
   "cell_type": "code",
   "execution_count": 14,
   "metadata": {
    "autoscroll": false,
    "collapsed": false,
    "ein.hycell": false,
    "ein.tags": "worksheet-0",
    "slideshow": {
     "slide_type": "-"
    }
   },
   "outputs": [
    {
     "name": "stdout",
     "output_type": "stream",
     "text": [
      "white    394\n",
      "red      394\n",
      "Name: style, dtype: int64\n"
     ]
    }
   ],
   "source": [
    "from sklearn.utils import resample,shuffle\n",
    "test_label_counts = y_test.value_counts()\n",
    "X_test_white = X_test[y_test=='white']\n",
    "y_test_white = y_test[y_test=='white']\n",
    "X_test_less_white, y_test_less_white = resample(X_test_white,y_test_white,n_samples=test_label_counts['red'],replace=False)\n",
    "X_test_ = pd.concat([X_test_less_white,X_test[y_test=='red']])\n",
    "y_test_ = pd.concat([y_test_less_white,y_test[y_test=='red']])\n",
    "X_test_, y_test_ = shuffle(X_test_,y_test_)\n",
    "print(y_test_.value_counts())"
   ]
  },
  {
   "cell_type": "markdown",
   "metadata": {
    "ein.tags": "worksheet-0",
    "slideshow": {
     "slide_type": "-"
    }
   },
   "source": [
    "# Question 9"
   ]
  },
  {
   "cell_type": "code",
   "execution_count": 15,
   "metadata": {
    "autoscroll": false,
    "collapsed": false,
    "ein.hycell": false,
    "ein.tags": "worksheet-0",
    "slideshow": {
     "slide_type": "-"
    }
   },
   "outputs": [
    {
     "name": "stdout",
     "output_type": "stream",
     "text": [
      "Régression logistique: 0.9441624365482234\n",
      "Peceptron: 0.5901015228426396\n",
      "Meilleur kNN: 0.8972081218274112\n"
     ]
    }
   ],
   "source": [
    "print('Régression logistique:', f.score(X_test_,y_test_))\n",
    "print('Peceptron:', perceptron.score(X_test_,y_test_))\n",
    "print('Meilleur kNN:',knn[k_best].score(X_test_,y_test_))"
   ]
  },
  {
   "cell_type": "markdown",
   "metadata": {
    "ein.tags": "worksheet-0",
    "slideshow": {
     "slide_type": "-"
    }
   },
   "source": [
    "Lorsque l'échantillon de test contient autant de vins rouges que de vins blancs, le score de chaque prédicteur est légèrement intérieur."
   ]
  },
  {
   "cell_type": "markdown",
   "metadata": {
    "ein.tags": "worksheet-0",
    "slideshow": {
     "slide_type": "-"
    }
   },
   "source": [
    "# Question 10"
   ]
  },
  {
   "cell_type": "code",
   "execution_count": 16,
   "metadata": {
    "autoscroll": false,
    "collapsed": false,
    "ein.hycell": false,
    "ein.tags": "worksheet-0",
    "slideshow": {
     "slide_type": "-"
    }
   },
   "outputs": [
    {
     "name": "stdout",
     "output_type": "stream",
     "text": [
      "white    1205\n",
      "red      1205\n",
      "Name: style, dtype: int64\n"
     ]
    }
   ],
   "source": [
    "train_label_counts = y_train.value_counts()\n",
    "X_train_white = X_train[y_train=='white']\n",
    "y_train_white = y_train[y_train=='white']\n",
    "X_train_less_white, y_train_less_white = resample(X_train_white,y_train_white,n_samples=train_label_counts['red'],replace=False)\n",
    "X_train_ = pd.concat([X_train_less_white,X_train[y_train=='red']])\n",
    "y_train_ = pd.concat([y_train_less_white,y_train[y_train=='red']])\n",
    "X_train_, y_train_ = shuffle(X_train_,y_train_)\n",
    "print(y_train_.value_counts())"
   ]
  },
  {
   "cell_type": "code",
   "execution_count": 17,
   "metadata": {
    "autoscroll": false,
    "collapsed": false,
    "ein.hycell": false,
    "ein.tags": "worksheet-0",
    "slideshow": {
     "slide_type": "-"
    }
   },
   "outputs": [
    {
     "name": "stdout",
     "output_type": "stream",
     "text": [
      "Régression logistique: 0.9517766497461929\n",
      "Perceptron: 0.7411167512690355\n",
      "Meilleur kNN: 0.899746192893401\n"
     ]
    },
    {
     "name": "stderr",
     "output_type": "stream",
     "text": [
      "/usr/lib/python3.7/site-packages/sklearn/linear_model/logistic.py:432: FutureWarning: Default solver will be changed to 'lbfgs' in 0.22. Specify a solver to silence this warning.\n",
      "  FutureWarning)\n",
      "/usr/lib/python3.7/site-packages/sklearn/linear_model/stochastic_gradient.py:144: FutureWarning: max_iter and tol parameters have been added in Perceptron in 0.19. If both are left unset, they default to max_iter=5 and tol=None. If tol is not None, max_iter defaults to max_iter=1000. From 0.21, default max_iter will be 1000, and default tol will be 1e-3.\n",
      "  FutureWarning)\n"
     ]
    }
   ],
   "source": [
    "f_ = LogisticRegression()\n",
    "f_.fit(X_train_, y_train_)\n",
    "print('Régression logistique:', f_.score(X_test_,y_test_))\n",
    "\n",
    "perceptron_ = Perceptron()\n",
    "perceptron_.fit(X_train_,y_train_)\n",
    "print('Perceptron:', perceptron_.score(X_test_,y_test_))\n",
    "\n",
    "knn_ = {}\n",
    "score_train = []\n",
    "score_test = []\n",
    "k_range = range(1,20)\n",
    "for k in k_range:\n",
    "   knn_[k] =  KNeighborsClassifier(n_neighbors=k)\n",
    "   knn_[k].fit(X_train_,y_train_)\n",
    "   score_test.append(knn_[k].score(X_test_,y_test_))\n",
    "k_best = np.argmax(score_test)\n",
    "print('Meilleur kNN:', score_test[k_best])\n"
   ]
  },
  {
   "cell_type": "markdown",
   "metadata": {
    "ein.tags": "worksheet-0",
    "slideshow": {
     "slide_type": "-"
    }
   },
   "source": [
    "Même si on a réduit la taille de l'échantillon d'apprentissage, du fait que celui-ci contienne autant de vins rouges que de vins blancs, on observe une légère amélioration des scores des prédicteurs obtenus."
   ]
  },
  {
   "cell_type": "markdown",
   "metadata": {
    "ein.tags": "worksheet-0",
    "slideshow": {
     "slide_type": "-"
    }
   },
   "source": [
    "# Question 11"
   ]
  },
  {
   "cell_type": "code",
   "execution_count": 18,
   "metadata": {
    "autoscroll": false,
    "collapsed": false,
    "ein.hycell": false,
    "ein.tags": "worksheet-0",
    "slideshow": {
     "slide_type": "-"
    }
   },
   "outputs": [
    {
     "name": "stdout",
     "output_type": "stream",
     "text": [
      "Régression logistique: 0.9798387096774194\n",
      "Perceptron 0.9086021505376344\n",
      "Meilleur kNN 0.9274193548387096\n"
     ]
    },
    {
     "name": "stderr",
     "output_type": "stream",
     "text": [
      "/usr/lib/python3.7/site-packages/sklearn/linear_model/logistic.py:432: FutureWarning: Default solver will be changed to 'lbfgs' in 0.22. Specify a solver to silence this warning.\n",
      "  FutureWarning)\n",
      "/usr/lib/python3.7/site-packages/sklearn/linear_model/stochastic_gradient.py:144: FutureWarning: max_iter and tol parameters have been added in Perceptron in 0.19. If both are left unset, they default to max_iter=5 and tol=None. If tol is not None, max_iter defaults to max_iter=1000. From 0.21, default max_iter will be 1000, and default tol will be 1e-3.\n",
      "  FutureWarning)\n"
     ]
    }
   ],
   "source": [
    "from sklearn.model_selection import train_test_split\n",
    "X_train, X_test, y_train, y_test = train_test_split(data.drop(columns='style'), data['style'])\n",
    "\n",
    "train_label_counts = y_train.value_counts()\n",
    "X_train_white = X_train[y_train=='white']\n",
    "y_train_white = y_train[y_train=='white']\n",
    "X_train_less_white, y_train_less_white = resample(X_train_white,y_train_white,n_samples=train_label_counts['red'],replace=False)\n",
    "X_train_ = pd.concat([X_train_less_white,X_train[y_train=='red']])\n",
    "y_train_ = pd.concat([y_train_less_white,y_train[y_train=='red']])\n",
    "X_train_, y_train_ = shuffle(X_train_,y_train_)\n",
    "\n",
    "test_label_counts = y_test.value_counts()\n",
    "X_test_white = X_test[y_test=='white']\n",
    "y_test_white = y_test[y_test=='white']\n",
    "X_test_less_white, y_test_less_white = resample(X_test_white,y_test_white,n_samples=test_label_counts['red'],replace=False)\n",
    "X_test_ = pd.concat([X_test_less_white,X_test[y_test=='red']])\n",
    "y_test_ = pd.concat([y_test_less_white,y_test[y_test=='red']])\n",
    "X_test_, y_test_ = shuffle(X_test_,y_test_)\n",
    "\n",
    "f_ = LogisticRegression()\n",
    "f_.fit(X_train_, y_train_)\n",
    "print('Régression logistique:',f_.score(X_test_,y_test_))\n",
    "\n",
    "perceptron_ = Perceptron()\n",
    "perceptron_.fit(X_train_,y_train_)\n",
    "print('Perceptron', perceptron_.score(X_test_,y_test_))\n",
    "\n",
    "knn_ = {}\n",
    "score_train = []\n",
    "score_test = []\n",
    "k_range = range(1,20)\n",
    "for k in k_range:\n",
    "   knn_[k] =  KNeighborsClassifier(n_neighbors=k)\n",
    "   knn_[k].fit(X_train_,y_train_)\n",
    "   score_test.append(knn_[k].score(X_test_,y_test_))\n",
    "k_best = np.argmax(score_test)\n",
    "print('Meilleur kNN', score_test[k_best])\n"
   ]
  },
  {
   "cell_type": "markdown",
   "metadata": {
    "ein.tags": "worksheet-0",
    "slideshow": {
     "slide_type": "-"
    }
   },
   "source": [
    "On observe une amélioration légère pour la régression logistique et kNN, et une amélioration nette pour le perceptron."
   ]
  }
 ],
 "metadata": {
  "kernelspec": {
   "display_name": "Python 3",
   "name": "python3"
  },
  "name": "tp3-correction.ipynb"
 },
 "nbformat": 4,
 "nbformat_minor": 2
}
